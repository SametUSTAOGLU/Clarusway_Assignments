{
 "cells": [
  {
   "cell_type": "code",
   "execution_count": 1,
   "id": "06a4ea26",
   "metadata": {},
   "outputs": [
    {
     "name": "stdout",
     "output_type": "stream",
     "text": [
      "[['eat', 'tea', 'ate'], ['tan', 'nat'], ['bat', 'tab'], ['ast', 'ats'], ['klm'], ['lou']]\n"
     ]
    }
   ],
   "source": [
    "liste = [\"eat\", \"tea\", \"tan\", \"ate\", \"nat\", \"bat\",\"tab\",\"ast\",\"ats\",\"klm\",\"lou\"]\n",
    "sayac = 0\n",
    "dış = []\n",
    "\n",
    "while sayac < len(liste):\n",
    "    iç = []\n",
    "    word = set(liste[sayac])\n",
    "    dış.append(iç)\n",
    "    iç.append(liste[sayac])\n",
    "    del liste[sayac]\n",
    "   \n",
    "    sayac2 = 0\n",
    "    while sayac2 < len(liste):\n",
    "        if word == set(liste[sayac2]):\n",
    "            iç.append(liste[sayac2])\n",
    "            del liste[sayac2]\n",
    "            \n",
    "        else:\n",
    "            sayac2+=1\n",
    "\n",
    "print(dış)"
   ]
  },
  {
   "cell_type": "code",
   "execution_count": null,
   "id": "75744664",
   "metadata": {},
   "outputs": [],
   "source": []
  }
 ],
 "metadata": {
  "kernelspec": {
   "display_name": "Python 3",
   "language": "python",
   "name": "python3"
  },
  "language_info": {
   "codemirror_mode": {
    "name": "ipython",
    "version": 3
   },
   "file_extension": ".py",
   "mimetype": "text/x-python",
   "name": "python",
   "nbconvert_exporter": "python",
   "pygments_lexer": "ipython3",
   "version": "3.8.8"
  }
 },
 "nbformat": 4,
 "nbformat_minor": 5
}
