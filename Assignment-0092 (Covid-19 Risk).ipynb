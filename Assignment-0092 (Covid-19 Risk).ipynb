{
 "cells": [
  {
   "cell_type": "code",
   "execution_count": 113,
   "id": "22ac5b2b",
   "metadata": {},
   "outputs": [
    {
     "name": "stdout",
     "output_type": "stream",
     "text": [
      "[['eat', 'tea', 'ate'], ['tan', 'nat'], ['bat', 'tab'], ['ast', 'ats'], ['klm'], ['lou']]\n"
     ]
    }
   ],
   "source": [
    "liste = [\"eat\", \"tea\", \"tan\", \"ate\", \"nat\", \"bat\",\"tab\",\"ast\",\"ats\",\"klm\",\"lou\"]\n",
    "sayac = 0\n",
    "dış = []\n",
    "\n",
    "while sayac < len(liste):\n",
    "    iç = []\n",
    "    word = set(liste[sayac])\n",
    "    dış.append(iç)\n",
    "    iç.append(liste[sayac])\n",
    "    del liste[sayac]\n",
    "   \n",
    "    sayac2 = 0\n",
    "    while sayac2 < len(liste):\n",
    "        if word == set(liste[sayac2]):\n",
    "            iç.append(liste[sayac2])\n",
    "            del liste[sayac2]\n",
    "            \n",
    "        else:\n",
    "            sayac2+=1\n",
    "\n",
    "print(dış)"
   ]
  },
  {
   "cell_type": "markdown",
   "id": "e87875aa",
   "metadata": {},
   "source": [
    "Problem :\n",
    "\n",
    "Task : Estimating the risk of death from coronavirus. Write a program that;\n",
    "\n",
    "Takes \"Yes\" or \"No\" from the user as an answer to the following questions :\n",
    "\n",
    "Are you a cigarette addict older than 75 years old? Variable → age\n",
    "\n",
    "Do you have a severe chronic disease? Variable → chronic\n",
    "\n",
    "Is your immune system too weak? Variable → immune\n",
    "\n",
    "Set a logical algorithm using boolean logic operators (and/or) and \n",
    "use if-statements with the given variables in order to print out us a message \n",
    ": \"You are in risky group\"(if True ) or \"You are not in risky group\" (if False)."
   ]
  },
  {
   "cell_type": "code",
   "execution_count": 118,
   "id": "fcb9d466",
   "metadata": {},
   "outputs": [
    {
     "name": "stdout",
     "output_type": "stream",
     "text": [
      "lütfen yaşınızı giriniz: 50\n",
      "False\n",
      "Are you a cigarette addict? Yes or No: yes\n",
      "True\n",
      "Do you have a severe chronic disease? Yes or No: no\n",
      "False\n",
      "Is your immune system too weak? Yes or No: no\n",
      "False\n",
      "You are not in risky group\n"
     ]
    }
   ],
   "source": [
    "age = int(input(\"lütfen yaşınızı giriniz: \"))\n",
    "if age > 75:\n",
    "    age = True\n",
    "else:\n",
    "    age = False\n",
    "print(age)\n",
    "\n",
    "cigarette = input(\"Are you a cigarette addict? Yes or No: \").strip().lower()\n",
    "if cigarette == \"yes\":\n",
    "    cigarette = True\n",
    "else:\n",
    "    cigarette = False\n",
    "print(cigarette)\n",
    "\n",
    "chronic = input(\"Do you have a severe chronic disease? Yes or No: \").strip().lower()\n",
    "if chronic == \"yes\":\n",
    "    chronic = True\n",
    "else:\n",
    "    chronic = False\n",
    "print(chronic)\n",
    "\n",
    "immune = input(\"Is your immune system too weak? Yes or No: \").strip().lower()\n",
    "if immune == \"yes\":\n",
    "    immune = True\n",
    "else:\n",
    "    immune = False\n",
    "print(immune)\n",
    "\n",
    "result = age and cigarette or chronic or immune\n",
    "if result == False:\n",
    "    print(\"You are not in risky group\")\n",
    "else:\n",
    "    print(\"You are in risky group\")\n"
   ]
  },
  {
   "cell_type": "markdown",
   "id": "58381038",
   "metadata": {},
   "source": []
  }
 ],
 "metadata": {
  "kernelspec": {
   "display_name": "Python 3",
   "language": "python",
   "name": "python3"
  },
  "language_info": {
   "codemirror_mode": {
    "name": "ipython",
    "version": 3
   },
   "file_extension": ".py",
   "mimetype": "text/x-python",
   "name": "python",
   "nbconvert_exporter": "python",
   "pygments_lexer": "ipython3",
   "version": "3.8.8"
  }
 },
 "nbformat": 4,
 "nbformat_minor": 5
}
