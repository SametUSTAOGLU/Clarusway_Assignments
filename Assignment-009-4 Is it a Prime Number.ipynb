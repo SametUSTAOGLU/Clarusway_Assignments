{
 "cells": [
  {
   "cell_type": "code",
   "execution_count": 9,
   "id": "68b38be2",
   "metadata": {},
   "outputs": [
    {
     "name": "stdout",
     "output_type": "stream",
     "text": [
      "Enter a number for check is it s prime number: 67\n",
      "67 is a prime number\n"
     ]
    }
   ],
   "source": [
    "number = int(input(\"Enter a number for check is it s prime number: \"))\n",
    "first = 2\n",
    "for i in range(number-2):\n",
    "    if number % first == 0:\n",
    "        print(f\"{number} is not a prime number\")\n",
    "        break\n",
    "    elif first == number-1:\n",
    "        print(f\"{number} is a prime number\")\n",
    "    first += 1"
   ]
  },
  {
   "cell_type": "code",
   "execution_count": null,
   "id": "4cefefb0",
   "metadata": {},
   "outputs": [],
   "source": []
  }
 ],
 "metadata": {
  "kernelspec": {
   "display_name": "Python 3",
   "language": "python",
   "name": "python3"
  },
  "language_info": {
   "codemirror_mode": {
    "name": "ipython",
    "version": 3
   },
   "file_extension": ".py",
   "mimetype": "text/x-python",
   "name": "python",
   "nbconvert_exporter": "python",
   "pygments_lexer": "ipython3",
   "version": "3.8.8"
  }
 },
 "nbformat": 4,
 "nbformat_minor": 5
}
