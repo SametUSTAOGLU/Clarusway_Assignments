{
 "cells": [
  {
   "cell_type": "code",
   "execution_count": 6,
   "id": "b0774c83",
   "metadata": {},
   "outputs": [
    {
     "name": "stdout",
     "output_type": "stream",
     "text": [
      "Please enter your name: samet   \n",
      "Hello, Samet! The password is : W@12\n"
     ]
    }
   ],
   "source": [
    "my_name = \"samet\".title()\n",
    "input_name = input(\"Please enter your name: \").title().strip()\n",
    "if my_name == input_name:\n",
    "    print(f\"Hello, {input_name}! The password is : W@12\")\n",
    "else:\n",
    "    print(f\"Hello, {input_name}! See you later.\")"
   ]
  },
  {
   "cell_type": "code",
   "execution_count": null,
   "id": "553738d0",
   "metadata": {},
   "outputs": [],
   "source": []
  }
 ],
 "metadata": {
  "kernelspec": {
   "display_name": "Python 3",
   "language": "python",
   "name": "python3"
  },
  "language_info": {
   "codemirror_mode": {
    "name": "ipython",
    "version": 3
   },
   "file_extension": ".py",
   "mimetype": "text/x-python",
   "name": "python",
   "nbconvert_exporter": "python",
   "pygments_lexer": "ipython3",
   "version": "3.8.8"
  }
 },
 "nbformat": 4,
 "nbformat_minor": 5
}
