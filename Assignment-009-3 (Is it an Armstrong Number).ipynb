{
 "cells": [
  {
   "cell_type": "markdown",
   "id": "820731ec",
   "metadata": {},
   "source": [
    "Task:\n",
    "\n",
    "Find out if a given number is an \"Armstrong Number\".\n",
    "\n",
    "An n-digit number that is the sum of the nth powers of its digits is called an n-Armstrong number. Examples :\n",
    "371 = 33 + 73 + 13;\n",
    "9474 = 94 + 44 + 74 + 44;\n",
    "93084 = 95 + 35 + 05 + 85 + 45.\n",
    "\n",
    "Write a Python program that;\n",
    "takes a positive integer number from the user,\n",
    "checks the entered number if it is Armstrong,\n",
    "consider the negative, float and any entries other than numeric values then display a warning message to the user."
   ]
  },
  {
   "cell_type": "code",
   "execution_count": 55,
   "id": "f898574d",
   "metadata": {},
   "outputs": [
    {
     "name": "stdout",
     "output_type": "stream",
     "text": [
      "Please enter number: khkh\n",
      "It is an invalid entry. Don't use non-numeric, float, or negative values!\n"
     ]
    }
   ],
   "source": [
    "num = input(\"Please enter number: \")\n",
    "numbers = [48,49,50,51,52,53,54,55,56,57]  # 0-9 arası rakamların ASCII kodları\n",
    "bos_liste = []  # girilen sayının rakam olan karakterleri bos listeye eklenecek \n",
    "for i in range(len(num)):  # ilk for girilen sayı içinde rakam harici karakter var mı diye kontrol ediyor.                 \n",
    "    if ord(num[i]) not in numbers:\n",
    "        print(\"It is an invalid entry. Don't use non-numeric, float, or negative values!\")\n",
    "        break\n",
    "    else:\n",
    "        bos_liste.append(num[i]) \n",
    "if len(bos_liste) == len(num):  # num ile bosliste uzunlukları eşitse işleme devam\n",
    "    summ = 0\n",
    "    power = len(num)\n",
    "    for i in range(len(num)):  # armstrong sayı kontrolü için hesap yapacak\n",
    "        summ = summ + int(num[i])**power\n",
    "        i +=1\n",
    "\n",
    "    if summ == int(num):\n",
    "        print(f\"{num} is an Armstrong number\")\n",
    "    else:\n",
    "        print(f\"{num} is not an Armstrong number\")\n"
   ]
  },
  {
   "cell_type": "code",
   "execution_count": 12,
   "id": "19818cb3",
   "metadata": {},
   "outputs": [
    {
     "name": "stdout",
     "output_type": "stream",
     "text": [
      "57\n"
     ]
    }
   ],
   "source": [
    "print(ord(\"9\"))"
   ]
  },
  {
   "cell_type": "code",
   "execution_count": null,
   "id": "6218a023",
   "metadata": {},
   "outputs": [],
   "source": []
  }
 ],
 "metadata": {
  "kernelspec": {
   "display_name": "Python 3",
   "language": "python",
   "name": "python3"
  },
  "language_info": {
   "codemirror_mode": {
    "name": "ipython",
    "version": 3
   },
   "file_extension": ".py",
   "mimetype": "text/x-python",
   "name": "python",
   "nbconvert_exporter": "python",
   "pygments_lexer": "ipython3",
   "version": "3.8.8"
  }
 },
 "nbformat": 4,
 "nbformat_minor": 5
}
